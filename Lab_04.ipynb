{
 "cells": [
  {
   "cell_type": "markdown",
   "metadata": {},
   "source": [
    "PCD - Lab4 - Function Chat"
   ]
  },
  {
   "cell_type": "markdown",
   "metadata": {},
   "source": [
    "1) Ask the user to insert his name and age. Then, calculate his birth year."
   ]
  },
  {
   "cell_type": "code",
   "execution_count": 16,
   "metadata": {},
   "outputs": [
    {
     "name": "stdout",
     "output_type": "stream",
     "text": [
      "Qual o seu nome? Paulo\n",
      "Ano de nascimento? 1976\n",
      "O Paulo tem 44 anos.\n"
     ]
    }
   ],
   "source": [
    "nome = input(\"Qual o seu nome? \")\n",
    "ano_nascimento = input(\"Ano de nascimento? \")\n",
    "idade = 2020 - int(ano_nascimento) \n",
    "print('O ' + nome + ' tem ' + str(idade) + ' anos.')"
   ]
  },
  {
   "cell_type": "markdown",
   "metadata": {},
   "source": [
    "2) Ask the user to insert a text. The program will always answer \"yes\". The conversation will be\n",
    "closed when the user says \"bye\""
   ]
  },
  {
   "cell_type": "code",
   "execution_count": 28,
   "metadata": {},
   "outputs": [
    {
     "name": "stdout",
     "output_type": "stream",
     "text": [
      "Do you have lanche: yes or not?\n",
      "Good!!!!\n"
     ]
    }
   ],
   "source": [
    "ciclo = input('Do you have lanche: yes or not?')\n",
    "if ciclo.lower() == 'yes' or \"y\":\n",
    "    print(\"Good!!!!\")\n",
    "else:\n",
    "    print (\"ups...\")"
   ]
  },
  {
   "cell_type": "markdown",
   "metadata": {},
   "source": [
    "3) Create a function for a greeting"
   ]
  },
  {
   "cell_type": "code",
   "execution_count": 40,
   "metadata": {},
   "outputs": [],
   "source": [
    "greeting = \"Olá \""
   ]
  },
  {
   "cell_type": "code",
   "execution_count": 1,
   "metadata": {},
   "outputs": [],
   "source": [
    "def greet ():\n",
    "    print (\"Olá\")"
   ]
  },
  {
   "cell_type": "markdown",
   "metadata": {},
   "source": [
    "4) Call greeting function at the beginning of the conversation."
   ]
  },
  {
   "cell_type": "code",
   "execution_count": 42,
   "metadata": {},
   "outputs": [
    {
     "name": "stdout",
     "output_type": "stream",
     "text": [
      "Qual o seu nome?paulo\n",
      "Olá paulo.\n"
     ]
    }
   ],
   "source": [
    "nome = input(\"Qual o seu nome?\")\n",
    "# print(greeting + nome + \".\")\n",
    "print (f'{greeting}{nome}.')"
   ]
  },
  {
   "cell_type": "markdown",
   "metadata": {},
   "source": [
    "5) Improve your chatbot"
   ]
  },
  {
   "cell_type": "code",
   "execution_count": null,
   "metadata": {},
   "outputs": [],
   "source": [
    "juntar as tres"
   ]
  },
  {
   "cell_type": "markdown",
   "metadata": {},
   "source": [
    "JLeal, 8 Out 2020,  não revisto"
   ]
  }
 ],
 "metadata": {
  "kernelspec": {
   "display_name": "Python 3",
   "language": "python",
   "name": "python3"
  },
  "language_info": {
   "codemirror_mode": {
    "name": "ipython",
    "version": 3
   },
   "file_extension": ".py",
   "mimetype": "text/x-python",
   "name": "python",
   "nbconvert_exporter": "python",
   "pygments_lexer": "ipython3",
   "version": "3.8.5"
  }
 },
 "nbformat": 4,
 "nbformat_minor": 4
}
