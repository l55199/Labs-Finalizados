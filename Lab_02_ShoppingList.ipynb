{
 "cells": [
  {
   "cell_type": "markdown",
   "metadata": {},
   "source": [
    "PCD - Lab2 - ShoppingList"
   ]
  },
  {
   "cell_type": "markdown",
   "metadata": {},
   "source": [
    "1) Construct a list (shoppingList) including 'potatoes', 'carrots', 'cod' and 'sprouts’"
   ]
  },
  {
   "cell_type": "code",
   "execution_count": 127,
   "metadata": {},
   "outputs": [
    {
     "name": "stdout",
     "output_type": "stream",
     "text": [
      "['potatoes', 'carrots', 'cod', 'sprouts']\n"
     ]
    }
   ],
   "source": [
    "shoppingList = [\"potatoes\",\"carrots\",\"cod\",\"sprouts\"]\n",
    "print(shoppingList)"
   ]
  },
  {
   "cell_type": "markdown",
   "metadata": {},
   "source": [
    "2) Get the second and the last element of the list"
   ]
  },
  {
   "cell_type": "code",
   "execution_count": 96,
   "metadata": {},
   "outputs": [
    {
     "data": {
      "text/plain": [
       "'carrots'"
      ]
     },
     "execution_count": 96,
     "metadata": {},
     "output_type": "execute_result"
    }
   ],
   "source": [
    "shoppingList[1]"
   ]
  },
  {
   "cell_type": "markdown",
   "metadata": {},
   "source": [
    "3) Iterate though the list"
   ]
  },
  {
   "cell_type": "code",
   "execution_count": 97,
   "metadata": {},
   "outputs": [
    {
     "name": "stdout",
     "output_type": "stream",
     "text": [
      "potatoes\n",
      "carrots\n",
      "cod\n",
      "sprouts\n"
     ]
    }
   ],
   "source": [
    "for purchase in shoppingList:\n",
    "    print(purchase)"
   ]
  },
  {
   "cell_type": "markdown",
   "metadata": {},
   "source": [
    "4) Create a new list (studentList)"
   ]
  },
  {
   "cell_type": "code",
   "execution_count": 98,
   "metadata": {},
   "outputs": [
    {
     "name": "stdout",
     "output_type": "stream",
     "text": [
      "[]\n"
     ]
    }
   ],
   "source": [
    "studentList = []\n",
    "print(studentList)"
   ]
  },
  {
   "cell_type": "markdown",
   "metadata": {},
   "source": [
    "5) Add the follwoing elements to the shoppingList: orange and lime"
   ]
  },
  {
   "cell_type": "code",
   "execution_count": 99,
   "metadata": {},
   "outputs": [
    {
     "name": "stdout",
     "output_type": "stream",
     "text": [
      "potatoes\n",
      "carrots\n",
      "cod\n",
      "sprouts\n",
      "orange\n",
      "lime\n"
     ]
    }
   ],
   "source": [
    "shoppingList.append('orange')\n",
    "shoppingList.append('lime')\n",
    "for purchase in shoppingList:\n",
    "    print(purchase)"
   ]
  },
  {
   "cell_type": "markdown",
   "metadata": {},
   "source": [
    "6) Remove the carrots, the first element and last element of the shoppingList list"
   ]
  },
  {
   "cell_type": "code",
   "execution_count": 100,
   "metadata": {},
   "outputs": [
    {
     "name": "stdout",
     "output_type": "stream",
     "text": [
      "cod\n",
      "sprouts\n",
      "orange\n"
     ]
    }
   ],
   "source": [
    "shoppingList.remove('carrots')\n",
    "del shoppingList[0]\n",
    "del shoppingList[-1]\n",
    "for purchase in shoppingList:\n",
    "    print(purchase)"
   ]
  },
  {
   "cell_type": "markdown",
   "metadata": {},
   "source": [
    "7) Delete the shoppingList list"
   ]
  },
  {
   "cell_type": "code",
   "execution_count": 102,
   "metadata": {},
   "outputs": [
    {
     "ename": "NameError",
     "evalue": "name 'shoppingList' is not defined",
     "output_type": "error",
     "traceback": [
      "\u001b[1;31m---------------------------------------------------------------------------\u001b[0m",
      "\u001b[1;31mNameError\u001b[0m                                 Traceback (most recent call last)",
      "\u001b[1;32m<ipython-input-102-52c0f9e90c4f>\u001b[0m in \u001b[0;36m<module>\u001b[1;34m\u001b[0m\n\u001b[1;32m----> 1\u001b[1;33m \u001b[1;32mdel\u001b[0m \u001b[0mshoppingList\u001b[0m\u001b[1;33m\u001b[0m\u001b[1;33m\u001b[0m\u001b[0m\n\u001b[0m\u001b[0;32m      2\u001b[0m \u001b[0mprint\u001b[0m\u001b[1;33m(\u001b[0m\u001b[0mpurchase\u001b[0m\u001b[1;33m)\u001b[0m\u001b[1;33m\u001b[0m\u001b[1;33m\u001b[0m\u001b[0m\n",
      "\u001b[1;31mNameError\u001b[0m: name 'shoppingList' is not defined"
     ]
    }
   ],
   "source": [
    "del shoppingList\n",
    "print(purchase)"
   ]
  },
  {
   "cell_type": "markdown",
   "metadata": {},
   "source": [
    "8) Create a list with the double values of all integer number between 1 and 15."
   ]
  },
  {
   "cell_type": "code",
   "execution_count": 108,
   "metadata": {},
   "outputs": [
    {
     "name": "stdout",
     "output_type": "stream",
     "text": [
      "[1, 4, 9, 16, 25, 36, 49, 64, 81, 100, 121, 144, 169, 196, 225]\n"
     ]
    }
   ],
   "source": [
    "numberList = [x**2 for x in range (1,16)]\n",
    "print (numberList)"
   ]
  },
  {
   "cell_type": "markdown",
   "metadata": {},
   "source": [
    "9) Obtain the first 3 elements of the list"
   ]
  },
  {
   "cell_type": "code",
   "execution_count": 110,
   "metadata": {},
   "outputs": [
    {
     "name": "stdout",
     "output_type": "stream",
     "text": [
      "1 4 9\n"
     ]
    }
   ],
   "source": [
    "firstNumber = numberList[0]\n",
    "secondNumber = numberList[1]\n",
    "thirdNumber = numberList[2]\n",
    "print(firstNumber,secondNumber,thirdNumber)"
   ]
  },
  {
   "cell_type": "markdown",
   "metadata": {},
   "source": [
    "10) What is the result of, Why?\n",
    "shopping = shoppingList\n",
    "shoppingListCopy = shoppingList[:]\n",
    "print(shopping)"
   ]
  },
  {
   "cell_type": "markdown",
   "metadata": {},
   "source": [
    "R: Estamos a linkar o conteúdo de \"shoppingList\" para \"shopping\""
   ]
  },
  {
   "cell_type": "markdown",
   "metadata": {},
   "source": [
    "12) What is the result of, Why?\n",
    "shopping = shoppingList\n",
    "shoppingList.append(\"orange\")\n",
    "print(shopping)"
   ]
  },
  {
   "cell_type": "markdown",
   "metadata": {},
   "source": [
    "R: na primeira linha estamos a linkar o conteúdo de \"shoppingList\" para \"shopping\",\n",
    "na segunda linha adicionou-se um novo elemento há \"shoppingList\" que também irá fazer parte de \"shopping\", pq estão linkados"
   ]
  },
  {
   "cell_type": "markdown",
   "metadata": {},
   "source": [
    "13) Remove all the items from the shoppingList"
   ]
  },
  {
   "cell_type": "code",
   "execution_count": 124,
   "metadata": {},
   "outputs": [
    {
     "ename": "NameError",
     "evalue": "name 'shoppinglist' is not defined",
     "output_type": "error",
     "traceback": [
      "\u001b[1;31m---------------------------------------------------------------------------\u001b[0m",
      "\u001b[1;31mNameError\u001b[0m                                 Traceback (most recent call last)",
      "\u001b[1;32m<ipython-input-124-8ef4b73cee8a>\u001b[0m in \u001b[0;36m<module>\u001b[1;34m\u001b[0m\n\u001b[1;32m----> 1\u001b[1;33m \u001b[0mshoppinglist\u001b[0m\u001b[1;33m.\u001b[0m\u001b[0mclear\u001b[0m\u001b[1;33m(\u001b[0m\u001b[1;33m)\u001b[0m\u001b[1;33m\u001b[0m\u001b[1;33m\u001b[0m\u001b[0m\n\u001b[0m\u001b[0;32m      2\u001b[0m \u001b[0mprint\u001b[0m\u001b[1;33m(\u001b[0m\u001b[0mshoppingList\u001b[0m\u001b[1;33m)\u001b[0m\u001b[1;33m\u001b[0m\u001b[1;33m\u001b[0m\u001b[0m\n",
      "\u001b[1;31mNameError\u001b[0m: name 'shoppinglist' is not defined"
     ]
    }
   ],
   "source": [
    "shoppinglist.clear()\n",
    "print(shoppingList)"
   ]
  },
  {
   "cell_type": "markdown",
   "metadata": {},
   "source": [
    "14) a)What is the result of, Why?\n",
    "newPurchases= (\"bananas\", \"beans\", \"rice\")\n",
    "print (newPurchases [1])\n",
    "newPurchases [0] = \"apple\""
   ]
  },
  {
   "cell_type": "code",
   "execution_count": 131,
   "metadata": {},
   "outputs": [
    {
     "name": "stdout",
     "output_type": "stream",
     "text": [
      "beans\n"
     ]
    }
   ],
   "source": [
    "newPurchases = (\"bananas\",\"beans\",\"rice\")\n",
    "print (newPurchases [1])"
   ]
  },
  {
   "cell_type": "markdown",
   "metadata": {},
   "source": [
    "14 b) newPurchases [0] = \"apple\"\n",
    "R: como resultado o sistema vai indicar esta operação não é possivel (pq os \"tuple\" são imutáveis)"
   ]
  },
  {
   "cell_type": "code",
   "execution_count": 132,
   "metadata": {},
   "outputs": [
    {
     "ename": "TypeError",
     "evalue": "'tuple' object does not support item assignment",
     "output_type": "error",
     "traceback": [
      "\u001b[1;31m---------------------------------------------------------------------------\u001b[0m",
      "\u001b[1;31mTypeError\u001b[0m                                 Traceback (most recent call last)",
      "\u001b[1;32m<ipython-input-132-f066553f6a57>\u001b[0m in \u001b[0;36m<module>\u001b[1;34m\u001b[0m\n\u001b[0;32m      1\u001b[0m \u001b[0mnewPurchases\u001b[0m \u001b[1;33m=\u001b[0m \u001b[1;33m(\u001b[0m\u001b[1;34m\"bananas\"\u001b[0m\u001b[1;33m,\u001b[0m\u001b[1;34m\"beans\"\u001b[0m\u001b[1;33m,\u001b[0m\u001b[1;34m\"rice\"\u001b[0m\u001b[1;33m)\u001b[0m\u001b[1;33m\u001b[0m\u001b[1;33m\u001b[0m\u001b[0m\n\u001b[1;32m----> 2\u001b[1;33m \u001b[0mnewPurchases\u001b[0m \u001b[1;33m[\u001b[0m\u001b[1;36m0\u001b[0m\u001b[1;33m]\u001b[0m \u001b[1;33m=\u001b[0m \u001b[1;34m\"apple\"\u001b[0m\u001b[1;33m\u001b[0m\u001b[1;33m\u001b[0m\u001b[0m\n\u001b[0m\u001b[0;32m      3\u001b[0m \u001b[1;32mfor\u001b[0m \u001b[0mpurchase\u001b[0m \u001b[1;32min\u001b[0m \u001b[0mnewPurchases\u001b[0m\u001b[1;33m:\u001b[0m\u001b[1;33m\u001b[0m\u001b[1;33m\u001b[0m\u001b[0m\n\u001b[0;32m      4\u001b[0m     \u001b[0mprint\u001b[0m\u001b[1;33m(\u001b[0m\u001b[0mpurchase\u001b[0m\u001b[1;33m)\u001b[0m\u001b[1;33m\u001b[0m\u001b[1;33m\u001b[0m\u001b[0m\n",
      "\u001b[1;31mTypeError\u001b[0m: 'tuple' object does not support item assignment"
     ]
    }
   ],
   "source": [
    "newPurchases = (\"bananas\",\"beans\",\"rice\")\n",
    "newPurchases [0] = \"apple\"\n",
    "for purchase in newPurchases:\n",
    "    print(purchase)"
   ]
  },
  {
   "cell_type": "markdown",
   "metadata": {},
   "source": [
    "15) Create a dictionary including the follwoing elements: orange, apple, pear, grape and peach. Key are 1 to 5.\n",
    "Iterate through key-value pair."
   ]
  },
  {
   "cell_type": "code",
   "execution_count": 140,
   "metadata": {},
   "outputs": [
    {
     "name": "stdout",
     "output_type": "stream",
     "text": [
      "The fruit 1 is orange.\n",
      "The fruit 2 is apple.\n",
      "The fruit 3 is pear.\n",
      "The fruit 4 is grape.\n",
      "The fruit 5 is peach.\n"
     ]
    }
   ],
   "source": [
    "fruit = {1:'orange', 2:'apple', 3:'pear', 4:'grape', 5:'peach'}\n",
    "for key , value in fruit.items():\n",
    "    print('The fruit ' + str(key) + ' is ' + value + '.')"
   ]
  },
  {
   "cell_type": "markdown",
   "metadata": {},
   "source": [
    "16) Create a weekList that is composed of several lists, each one corresponding to a day."
   ]
  },
  {
   "cell_type": "code",
   "execution_count": 144,
   "metadata": {},
   "outputs": [
    {
     "name": "stdout",
     "output_type": "stream",
     "text": [
      "[1, 2, 3, 4, 5, 6, 7]\n",
      "[8, 9, 10, 11, 12, 13, 14]\n",
      "[15, 16, 17, 18, 19, 20, 21]\n",
      "[22, 23, 24, 25, 26, 27, 28]\n",
      "[29, 30, 31]\n"
     ]
    }
   ],
   "source": [
    "weekList1 = [1,2,3,4,5,6,7]\n",
    "weekList2 = [8,9,10,11,12,13,14]\n",
    "weekList3 = [15,16,17,18,19,20,21]\n",
    "weekList4 = [22,23,24,25,26,27,28]\n",
    "weekList5 = [29,30,31]\n",
    "mountList = [weekList1, weekList2, weekList3, weekList4, weekList5]\n",
    "#print (mountList)\n",
    "for purchase in mountList:\n",
    "    print(purchase)"
   ]
  },
  {
   "cell_type": "markdown",
   "metadata": {},
   "source": [
    "JLeal, 29 SET 2020, revisto"
   ]
  }
 ],
 "metadata": {
  "kernelspec": {
   "display_name": "Python 3",
   "language": "python",
   "name": "python3"
  },
  "language_info": {
   "codemirror_mode": {
    "name": "ipython",
    "version": 3
   },
   "file_extension": ".py",
   "mimetype": "text/x-python",
   "name": "python",
   "nbconvert_exporter": "python",
   "pygments_lexer": "ipython3",
   "version": "3.8.3"
  }
 },
 "nbformat": 4,
 "nbformat_minor": 4
}
