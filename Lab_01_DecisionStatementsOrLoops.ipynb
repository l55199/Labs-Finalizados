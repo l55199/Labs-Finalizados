{
 "cells": [
  {
   "cell_type": "markdown",
   "metadata": {},
   "source": [
    "Lab 01 - Decision Statements or Loops"
   ]
  },
  {
   "cell_type": "markdown",
   "metadata": {},
   "source": [
    "1) Verify if a value is an integer"
   ]
  },
  {
   "cell_type": "markdown",
   "metadata": {},
   "source": [
    "1) Verify if a value is an integer"
   ]
  },
  {
   "cell_type": "code",
   "execution_count": 7,
   "metadata": {},
   "outputs": [
    {
     "data": {
      "text/plain": [
       "int"
      ]
     },
     "execution_count": 7,
     "metadata": {},
     "output_type": "execute_result"
    }
   ],
   "source": [
    "num1=2\n",
    "type(num1)"
   ]
  },
  {
   "cell_type": "markdown",
   "metadata": {},
   "source": [
    "2) Verify if a value is even"
   ]
  },
  {
   "cell_type": "code",
   "execution_count": 8,
   "metadata": {},
   "outputs": [
    {
     "data": {
      "text/plain": [
       "False"
      ]
     },
     "execution_count": 8,
     "metadata": {},
     "output_type": "execute_result"
    }
   ],
   "source": [
    "num2=3\n",
    "num2 % 2 == 0"
   ]
  },
  {
   "cell_type": "markdown",
   "metadata": {},
   "source": [
    "3) Insert two numbers. Is the first is bigger than the second?"
   ]
  },
  {
   "cell_type": "code",
   "execution_count": 10,
   "metadata": {},
   "outputs": [
    {
     "data": {
      "text/plain": [
       "True"
      ]
     },
     "execution_count": 10,
     "metadata": {},
     "output_type": "execute_result"
    }
   ],
   "source": [
    "numA3=7\n",
    "numB3=5\n",
    "if numA3>numB3"
   ]
  },
  {
   "cell_type": "markdown",
   "metadata": {},
   "source": [
    "4) Verify if one value is multiple of another"
   ]
  },
  {
   "cell_type": "code",
   "execution_count": 18,
   "metadata": {},
   "outputs": [
    {
     "data": {
      "text/plain": [
       "True"
      ]
     },
     "execution_count": 18,
     "metadata": {},
     "output_type": "execute_result"
    }
   ],
   "source": [
    "numA4=3\n",
    "numB4=3\n",
    "numA4 % numB4 == 0 or numB4 % numA4 == 0"
   ]
  },
  {
   "cell_type": "markdown",
   "metadata": {},
   "source": [
    "5) Calculate the interest earn by an investor that invested an amount of capital of 200 during three years with an\n",
    "interest rate of 3%.\n",
    "(I= P*R*T)\n",
    "\n",
    "P= provision\n",
    "R= rate\n",
    "T= time"
   ]
  },
  {
   "cell_type": "code",
   "execution_count": 30,
   "metadata": {},
   "outputs": [
    {
     "name": "stdout",
     "output_type": "stream",
     "text": [
      "18.0\n"
     ]
    }
   ],
   "source": [
    "P5=200\n",
    "R5=0.03\n",
    "T5=3\n",
    "I5=(P5*R5*T5)\n",
    "print(I5)"
   ]
  },
  {
   "cell_type": "markdown",
   "metadata": {},
   "source": [
    "6) Capital that an investor obtained after investing an amount of capital of 200 during three years with an interest rate of 3%. (Compound interest)\n",
    "\n",
    "C= Capital"
   ]
  },
  {
   "cell_type": "code",
   "execution_count": 38,
   "metadata": {},
   "outputs": [
    {
     "name": "stdout",
     "output_type": "stream",
     "text": [
      "218.0\n"
     ]
    }
   ],
   "source": [
    "P6=200\n",
    "R6=0.03\n",
    "T6=3\n",
    "# I6=(P6*R6*T6)\n",
    "C6=P6+(P6*R6*T6)\n",
    "# print(C6)\n",
    "print(P6+(P6*R6*T6))\n"
   ]
  },
  {
   "cell_type": "markdown",
   "metadata": {},
   "source": [
    "7) Calculate your BMI (Body Mass Index)\n",
    "BMI = Mass(kg)/heigh^2(m)"
   ]
  },
  {
   "cell_type": "code",
   "execution_count": 44,
   "metadata": {},
   "outputs": [
    {
     "name": "stdout",
     "output_type": "stream",
     "text": [
      "24.221453287197235\n"
     ]
    }
   ],
   "source": [
    "M =7 0\n",
    "H = 1.70\n",
    "#BMI = M / (H*H)\n",
    "BMI = M / (H**2)\n",
    "print(BMI)"
   ]
  },
  {
   "cell_type": "markdown",
   "metadata": {},
   "source": [
    "8) Calculate the Golden ration:\n",
    "(falta aqui a formula)\n",
    "\n",
    "1. Solve the problem without using libraries\n",
    "2. Use module math (import math) and function sqr (math.sqrt)\n",
    "\n",
    "GR= Golden Ration\n",
    "\n"
   ]
  },
  {
   "cell_type": "code",
   "execution_count": 51,
   "metadata": {},
   "outputs": [
    {
     "name": "stdout",
     "output_type": "stream",
     "text": [
      "1.618033988749895\n"
     ]
    }
   ],
   "source": [
    "# 1\n",
    "# GR1=(1+5**0.5)/2\n",
    "# print(GR1)\n",
    "\n",
    "# 2\n",
    "import math\n",
    "GR2=(1+math.sqrt(5))/2\n",
    "print(GR2)"
   ]
  },
  {
   "cell_type": "markdown",
   "metadata": {},
   "source": [
    "9) Calculate the NPV (Net present value) of an investment, considering an initial investment of 10000, the following\n",
    "Cashflows 2000,3000, 4000, 4000 and 5000 and a discount rate of 10%.\n",
    "(Falta aqui a formula)\n",
    "Where:\n",
    "FV = Future cost of the cash inflows,\n",
    "I = Initial Investment\n",
    "k = Discount rate equal to the owner’s cost of capital"
   ]
  },
  {
   "cell_type": "code",
   "execution_count": 79,
   "metadata": {},
   "outputs": [
    {
     "ename": "NameError",
     "evalue": "name 'i' is not defined",
     "output_type": "error",
     "traceback": [
      "\u001b[1;31m---------------------------------------------------------------------------\u001b[0m",
      "\u001b[1;31mNameError\u001b[0m                                 Traceback (most recent call last)",
      "\u001b[1;32m<ipython-input-79-652375a30e12>\u001b[0m in \u001b[0;36m<module>\u001b[1;34m\u001b[0m\n\u001b[0;32m      8\u001b[0m     \u001b[0mK\u001b[0m \u001b[1;33m=\u001b[0m \u001b[1;36m0.1\u001b[0m\u001b[1;33m\u001b[0m\u001b[1;33m\u001b[0m\u001b[0m\n\u001b[0;32m      9\u001b[0m \u001b[1;33m\u001b[0m\u001b[0m\n\u001b[1;32m---> 10\u001b[1;33m \u001b[0mPV\u001b[0m\u001b[1;33m=\u001b[0m\u001b[0mCF\u001b[0m\u001b[1;33m[\u001b[0m\u001b[0mi\u001b[0m\u001b[1;33m]\u001b[0m\u001b[1;33m/\u001b[0m\u001b[1;33m(\u001b[0m\u001b[1;33m(\u001b[0m\u001b[1;36m1\u001b[0m\u001b[1;33m+\u001b[0m\u001b[0mK\u001b[0m\u001b[1;33m)\u001b[0m\u001b[1;33m**\u001b[0m\u001b[0mi\u001b[0m\u001b[1;33m)\u001b[0m\u001b[1;33m\u001b[0m\u001b[1;33m\u001b[0m\u001b[0m\n\u001b[0m\u001b[0;32m     11\u001b[0m \u001b[1;33m\u001b[0m\u001b[0m\n\u001b[0;32m     12\u001b[0m \u001b[1;32mwhile\u001b[0m \u001b[0mi\u001b[0m \u001b[1;33m<\u001b[0m \u001b[0mlen\u001b[0m\u001b[1;33m(\u001b[0m\u001b[0mCF\u001b[0m\u001b[1;33m)\u001b[0m\u001b[1;33m:\u001b[0m\u001b[1;33m\u001b[0m\u001b[1;33m\u001b[0m\u001b[0m\n",
      "\u001b[1;31mNameError\u001b[0m: name 'i' is not defined"
     ]
    }
   ],
   "source": [
    "def NPV(CF, K):\n",
    "    f = 0\n",
    "    i = 1\n",
    "    PV = 0\n",
    "\n",
    "CF=[2000,3000,4000,4000,5000]\n",
    "K = 0.1\n",
    "PV=CF[i]/((1+K)**i)\n",
    "\n",
    "while i < len(CF):\n",
    "        i += 1\n",
    "        return PV\n",
    "\n",
    "print(NPV(CF, K))"
   ]
  },
  {
   "cell_type": "markdown",
   "metadata": {},
   "source": [
    "def npv(cfList, r):\n",
    "    return sum(f / ((1 + r) ** i) for i, f in enumerate(cfList, 1))\n",
    "\n",
    "cfList = [20, 50, 90]\n",
    "r = 0.05\n",
    "npv(cfList, r)\n",
    "\n"
   ]
  },
  {
   "cell_type": "code",
   "execution_count": 78,
   "metadata": {},
   "outputs": [
    {
     "data": {
      "text/plain": [
       "13139.440301519393"
      ]
     },
     "execution_count": 78,
     "metadata": {},
     "output_type": "execute_result"
    }
   ],
   "source": [
    "def NPV(CF, K):\n",
    "    return sum(f / ((1 + K) ** i) for i, f in enumerate(CF, 1))\n",
    "\n",
    "CF=[2000,3000,4000,4000,5000]\n",
    "K = 0.1\n",
    "NPV(CF, K)"
   ]
  },
  {
   "cell_type": "code",
   "execution_count": 7,
   "metadata": {},
   "outputs": [],
   "source": [
    "I=10000\n",
    "CF=[]\n",
    "CF1=2000\n",
    "CF2=3000\n",
    "CF3=4000\n",
    "CF4=4000\n",
    "CF5=5000\n",
    "rate=0.1\n",
    "CF=[CF1,CF2,CF3,CF4,CF5]\n",
    "#NPV=((CF1(I+rate))(CF2(I+rate)**2)+(CF3(I+rate)**3)+(CF4(I+rate)**4)+(CF5(I+rate)**5))-I"
   ]
  },
  {
   "cell_type": "code",
   "execution_count": 8,
   "metadata": {},
   "outputs": [
    {
     "data": {
      "text/plain": [
       "[2000, 3000, 4000, 4000, 5000]"
      ]
     },
     "execution_count": 8,
     "metadata": {},
     "output_type": "execute_result"
    }
   ],
   "source": [
    "CF"
   ]
  },
  {
   "cell_type": "markdown",
   "metadata": {},
   "source": [
    "10) Ask the user to insert name and age. Calculate the birth year. Print a result saying the 'this person was born in.'\n",
    "1. Solve the problem without using modules and libraries\n",
    "2. Solve the problem using the date library from module datetime, as fallow:\n",
    "from datetime import date\n",
    "today = date.today()\n",
    "today.year"
   ]
  },
  {
   "cell_type": "code",
   "execution_count": null,
   "metadata": {},
   "outputs": [],
   "source": [
    "age=\"22\"\n",
    "name=\"Carlos\"\n",
    "dataNascimento=\"\""
   ]
  },
  {
   "cell_type": "code",
   "execution_count": null,
   "metadata": {},
   "outputs": [],
   "source": []
  },
  {
   "cell_type": "markdown",
   "metadata": {},
   "source": [
    "11) Ask the user to insert forenames, surnames. Create a new variable (name) with your complete name.\n",
    "Create the following variables:\n",
    "nameBig - all the characters of the name are capitalized\n",
    "nameTitle - only the first character of each name (word) is capitalized\n",
    "nameSmall - all the characters of the name are lowercase.\n",
    "nameCapitalized - only the first character of the first name is capitalized"
   ]
  },
  {
   "cell_type": "code",
   "execution_count": null,
   "metadata": {},
   "outputs": [],
   "source": []
  },
  {
   "cell_type": "markdown",
   "metadata": {},
   "source": [
    "12) Use the following method to show in which character appears the first \"da\"\n",
    "str.find(sub,start,end)\n",
    "What happens if the content of sub is not found in str?"
   ]
  },
  {
   "cell_type": "code",
   "execution_count": null,
   "metadata": {},
   "outputs": [],
   "source": []
  },
  {
   "cell_type": "markdown",
   "metadata": {},
   "source": [
    "JLeal, 25 set 2020, NÃO REVISTO"
   ]
  }
 ],
 "metadata": {
  "kernelspec": {
   "display_name": "Python 3",
   "language": "python",
   "name": "python3"
  },
  "language_info": {
   "codemirror_mode": {
    "name": "ipython",
    "version": 3
   },
   "file_extension": ".py",
   "mimetype": "text/x-python",
   "name": "python",
   "nbconvert_exporter": "python",
   "pygments_lexer": "ipython3",
   "version": "3.8.3"
  }
 },
 "nbformat": 4,
 "nbformat_minor": 4
}
